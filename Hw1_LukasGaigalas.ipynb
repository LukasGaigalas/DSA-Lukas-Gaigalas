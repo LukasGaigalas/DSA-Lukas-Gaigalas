{
 "cells": [
  {
   "cell_type": "markdown",
   "metadata": {},
   "source": [
    "# Hw1"
   ]
  },
  {
   "cell_type": "markdown",
   "metadata": {},
   "source": [
    "### Importing libraries"
   ]
  },
  {
   "cell_type": "code",
   "execution_count": 1,
   "metadata": {},
   "outputs": [],
   "source": [
    "import pandas as pd\n",
    "import numpy as np\n",
    "import requests\n",
    "import io"
   ]
  },
  {
   "cell_type": "markdown",
   "metadata": {},
   "source": [
    "### Importing data\n",
    "Importing directly from git, it's more awesome that way and I haven't try that before"
   ]
  },
  {
   "cell_type": "code",
   "execution_count": 2,
   "metadata": {},
   "outputs": [],
   "source": [
    "url = \"https://raw.githubusercontent.com/LukasGaigalas/DSA-Lukas-Gaigalas/master/loans_2007.csv\"\n",
    "s=requests.get(url).content\n",
    "loan_table=pd.read_csv(io.StringIO(s.decode('utf-8')))"
   ]
  },
  {
   "cell_type": "markdown",
   "metadata": {},
   "source": [
    "### Top 5 rows"
   ]
  },
  {
   "cell_type": "code",
   "execution_count": 3,
   "metadata": {},
   "outputs": [
    {
     "data": {
      "text/html": [
       "<div>\n",
       "<style scoped>\n",
       "    .dataframe tbody tr th:only-of-type {\n",
       "        vertical-align: middle;\n",
       "    }\n",
       "\n",
       "    .dataframe tbody tr th {\n",
       "        vertical-align: top;\n",
       "    }\n",
       "\n",
       "    .dataframe thead th {\n",
       "        text-align: right;\n",
       "    }\n",
       "</style>\n",
       "<table border=\"1\" class=\"dataframe\">\n",
       "  <thead>\n",
       "    <tr style=\"text-align: right;\">\n",
       "      <th></th>\n",
       "      <th>loan_amnt</th>\n",
       "      <th>int_rate</th>\n",
       "      <th>installment</th>\n",
       "      <th>emp_length</th>\n",
       "      <th>annual_inc</th>\n",
       "      <th>loan_status</th>\n",
       "      <th>zip_code</th>\n",
       "      <th>dti</th>\n",
       "      <th>delinq_2yrs</th>\n",
       "      <th>fico_range_high</th>\n",
       "      <th>...</th>\n",
       "      <th>purpose_major_purchase</th>\n",
       "      <th>purpose_medical</th>\n",
       "      <th>purpose_moving</th>\n",
       "      <th>purpose_other</th>\n",
       "      <th>purpose_renewable_energy</th>\n",
       "      <th>purpose_small_business</th>\n",
       "      <th>purpose_vacation</th>\n",
       "      <th>purpose_wedding</th>\n",
       "      <th>term_ 36 months</th>\n",
       "      <th>term_ 60 months</th>\n",
       "    </tr>\n",
       "  </thead>\n",
       "  <tbody>\n",
       "    <tr>\n",
       "      <th>0</th>\n",
       "      <td>5000.0</td>\n",
       "      <td>10.65</td>\n",
       "      <td>162.87</td>\n",
       "      <td>10</td>\n",
       "      <td>24000.0</td>\n",
       "      <td>1</td>\n",
       "      <td>860</td>\n",
       "      <td>27.65</td>\n",
       "      <td>0.0</td>\n",
       "      <td>739.0</td>\n",
       "      <td>...</td>\n",
       "      <td>0.0</td>\n",
       "      <td>0.0</td>\n",
       "      <td>0.0</td>\n",
       "      <td>0.0</td>\n",
       "      <td>0.0</td>\n",
       "      <td>0.0</td>\n",
       "      <td>0.0</td>\n",
       "      <td>0.0</td>\n",
       "      <td>1.0</td>\n",
       "      <td>0.0</td>\n",
       "    </tr>\n",
       "    <tr>\n",
       "      <th>1</th>\n",
       "      <td>2500.0</td>\n",
       "      <td>15.27</td>\n",
       "      <td>59.83</td>\n",
       "      <td>0</td>\n",
       "      <td>30000.0</td>\n",
       "      <td>0</td>\n",
       "      <td>309</td>\n",
       "      <td>1.00</td>\n",
       "      <td>0.0</td>\n",
       "      <td>744.0</td>\n",
       "      <td>...</td>\n",
       "      <td>0.0</td>\n",
       "      <td>0.0</td>\n",
       "      <td>0.0</td>\n",
       "      <td>0.0</td>\n",
       "      <td>0.0</td>\n",
       "      <td>0.0</td>\n",
       "      <td>0.0</td>\n",
       "      <td>0.0</td>\n",
       "      <td>0.0</td>\n",
       "      <td>1.0</td>\n",
       "    </tr>\n",
       "    <tr>\n",
       "      <th>2</th>\n",
       "      <td>2400.0</td>\n",
       "      <td>15.96</td>\n",
       "      <td>84.33</td>\n",
       "      <td>10</td>\n",
       "      <td>12252.0</td>\n",
       "      <td>1</td>\n",
       "      <td>606</td>\n",
       "      <td>8.72</td>\n",
       "      <td>0.0</td>\n",
       "      <td>739.0</td>\n",
       "      <td>...</td>\n",
       "      <td>0.0</td>\n",
       "      <td>0.0</td>\n",
       "      <td>0.0</td>\n",
       "      <td>0.0</td>\n",
       "      <td>0.0</td>\n",
       "      <td>1.0</td>\n",
       "      <td>0.0</td>\n",
       "      <td>0.0</td>\n",
       "      <td>1.0</td>\n",
       "      <td>0.0</td>\n",
       "    </tr>\n",
       "    <tr>\n",
       "      <th>3</th>\n",
       "      <td>10000.0</td>\n",
       "      <td>13.49</td>\n",
       "      <td>339.31</td>\n",
       "      <td>10</td>\n",
       "      <td>49200.0</td>\n",
       "      <td>1</td>\n",
       "      <td>917</td>\n",
       "      <td>20.00</td>\n",
       "      <td>0.0</td>\n",
       "      <td>694.0</td>\n",
       "      <td>...</td>\n",
       "      <td>0.0</td>\n",
       "      <td>0.0</td>\n",
       "      <td>0.0</td>\n",
       "      <td>1.0</td>\n",
       "      <td>0.0</td>\n",
       "      <td>0.0</td>\n",
       "      <td>0.0</td>\n",
       "      <td>0.0</td>\n",
       "      <td>1.0</td>\n",
       "      <td>0.0</td>\n",
       "    </tr>\n",
       "    <tr>\n",
       "      <th>4</th>\n",
       "      <td>5000.0</td>\n",
       "      <td>7.90</td>\n",
       "      <td>156.46</td>\n",
       "      <td>3</td>\n",
       "      <td>36000.0</td>\n",
       "      <td>1</td>\n",
       "      <td>852</td>\n",
       "      <td>11.20</td>\n",
       "      <td>0.0</td>\n",
       "      <td>734.0</td>\n",
       "      <td>...</td>\n",
       "      <td>0.0</td>\n",
       "      <td>0.0</td>\n",
       "      <td>0.0</td>\n",
       "      <td>0.0</td>\n",
       "      <td>0.0</td>\n",
       "      <td>0.0</td>\n",
       "      <td>0.0</td>\n",
       "      <td>1.0</td>\n",
       "      <td>1.0</td>\n",
       "      <td>0.0</td>\n",
       "    </tr>\n",
       "  </tbody>\n",
       "</table>\n",
       "<p>5 rows × 41 columns</p>\n",
       "</div>"
      ],
      "text/plain": [
       "   loan_amnt  int_rate  installment  emp_length  annual_inc  loan_status  \\\n",
       "0     5000.0     10.65       162.87          10     24000.0            1   \n",
       "1     2500.0     15.27        59.83           0     30000.0            0   \n",
       "2     2400.0     15.96        84.33          10     12252.0            1   \n",
       "3    10000.0     13.49       339.31          10     49200.0            1   \n",
       "4     5000.0      7.90       156.46           3     36000.0            1   \n",
       "\n",
       "   zip_code    dti  delinq_2yrs  fico_range_high  ...  purpose_major_purchase  \\\n",
       "0       860  27.65          0.0            739.0  ...                     0.0   \n",
       "1       309   1.00          0.0            744.0  ...                     0.0   \n",
       "2       606   8.72          0.0            739.0  ...                     0.0   \n",
       "3       917  20.00          0.0            694.0  ...                     0.0   \n",
       "4       852  11.20          0.0            734.0  ...                     0.0   \n",
       "\n",
       "   purpose_medical  purpose_moving  purpose_other  purpose_renewable_energy  \\\n",
       "0              0.0             0.0            0.0                       0.0   \n",
       "1              0.0             0.0            0.0                       0.0   \n",
       "2              0.0             0.0            0.0                       0.0   \n",
       "3              0.0             0.0            1.0                       0.0   \n",
       "4              0.0             0.0            0.0                       0.0   \n",
       "\n",
       "   purpose_small_business  purpose_vacation  purpose_wedding  term_ 36 months  \\\n",
       "0                     0.0               0.0              0.0              1.0   \n",
       "1                     0.0               0.0              0.0              0.0   \n",
       "2                     1.0               0.0              0.0              1.0   \n",
       "3                     0.0               0.0              0.0              1.0   \n",
       "4                     0.0               0.0              1.0              1.0   \n",
       "\n",
       "   term_ 60 months  \n",
       "0              0.0  \n",
       "1              1.0  \n",
       "2              0.0  \n",
       "3              0.0  \n",
       "4              0.0  \n",
       "\n",
       "[5 rows x 41 columns]"
      ]
     },
     "execution_count": 3,
     "metadata": {},
     "output_type": "execute_result"
    }
   ],
   "source": [
    "loan_table.head(5)"
   ]
  },
  {
   "cell_type": "markdown",
   "metadata": {},
   "source": [
    "### (columns and rows)"
   ]
  },
  {
   "cell_type": "code",
   "execution_count": 44,
   "metadata": {},
   "outputs": [
    {
     "data": {
      "text/plain": [
       "(39252, 41)"
      ]
     },
     "execution_count": 44,
     "metadata": {},
     "output_type": "execute_result"
    }
   ],
   "source": [
    "loan_table.shape"
   ]
  },
  {
   "cell_type": "markdown",
   "metadata": {},
   "source": [
    "### Variables and their data types"
   ]
  },
  {
   "cell_type": "code",
   "execution_count": 48,
   "metadata": {},
   "outputs": [
    {
     "data": {
      "text/plain": [
       "loan_amnt                              float64\n",
       "int_rate                               float64\n",
       "installment                            float64\n",
       "emp_length                               int64\n",
       "annual_inc                             float64\n",
       "loan_status                              int64\n",
       "zip_code                                 int64\n",
       "dti                                    float64\n",
       "delinq_2yrs                            float64\n",
       "fico_range_high                        float64\n",
       "inq_last_6mths                         float64\n",
       "open_acc                               float64\n",
       "pub_rec                                float64\n",
       "revol_bal                              float64\n",
       "revol_util                             float64\n",
       "total_acc                              float64\n",
       "last_fico_range_high                   float64\n",
       "home_ownership_MORTGAGE                float64\n",
       "home_ownership_NONE                    float64\n",
       "home_ownership_OTHER                   float64\n",
       "home_ownership_OWN                     float64\n",
       "home_ownership_RENT                    float64\n",
       "verification_status_Not Verified       float64\n",
       "verification_status_Source Verified    float64\n",
       "verification_status_Verified           float64\n",
       "purpose_car                            float64\n",
       "purpose_credit_card                    float64\n",
       "purpose_debt_consolidation             float64\n",
       "purpose_educational                    float64\n",
       "purpose_home_improvement               float64\n",
       "purpose_house                          float64\n",
       "purpose_major_purchase                 float64\n",
       "purpose_medical                        float64\n",
       "purpose_moving                         float64\n",
       "purpose_other                          float64\n",
       "purpose_renewable_energy               float64\n",
       "purpose_small_business                 float64\n",
       "purpose_vacation                       float64\n",
       "purpose_wedding                        float64\n",
       "term_ 36 months                        float64\n",
       "term_ 60 months                        float64\n",
       "dtype: object"
      ]
     },
     "execution_count": 48,
     "metadata": {},
     "output_type": "execute_result"
    }
   ],
   "source": [
    "loan_table.dtypes"
   ]
  },
  {
   "cell_type": "code",
   "execution_count": 101,
   "metadata": {},
   "outputs": [
    {
     "name": "stdout",
     "output_type": "stream",
     "text": [
      "<class 'pandas.core.frame.DataFrame'>\n",
      "RangeIndex: 39252 entries, 0 to 39251\n",
      "Data columns (total 41 columns):\n",
      "loan_amnt                              39252 non-null float64\n",
      "int_rate                               39252 non-null float64\n",
      "installment                            39252 non-null float64\n",
      "emp_length                             39252 non-null int64\n",
      "annual_inc                             39252 non-null float64\n",
      "loan_status                            39252 non-null int64\n",
      "zip_code                               39252 non-null int64\n",
      "dti                                    39252 non-null float64\n",
      "delinq_2yrs                            39252 non-null float64\n",
      "fico_range_high                        39252 non-null float64\n",
      "inq_last_6mths                         39252 non-null float64\n",
      "open_acc                               39252 non-null float64\n",
      "pub_rec                                39252 non-null float64\n",
      "revol_bal                              39252 non-null float64\n",
      "revol_util                             39202 non-null float64\n",
      "total_acc                              39252 non-null float64\n",
      "last_fico_range_high                   39252 non-null float64\n",
      "home_ownership_MORTGAGE                39252 non-null float64\n",
      "home_ownership_NONE                    39252 non-null float64\n",
      "home_ownership_OTHER                   39252 non-null float64\n",
      "home_ownership_OWN                     39252 non-null float64\n",
      "home_ownership_RENT                    39252 non-null float64\n",
      "verification_status_Not Verified       39252 non-null float64\n",
      "verification_status_Source Verified    39252 non-null float64\n",
      "verification_status_Verified           39252 non-null float64\n",
      "purpose_car                            39252 non-null float64\n",
      "purpose_credit_card                    39252 non-null float64\n",
      "purpose_debt_consolidation             39252 non-null float64\n",
      "purpose_educational                    39252 non-null float64\n",
      "purpose_home_improvement               39252 non-null float64\n",
      "purpose_house                          39252 non-null float64\n",
      "purpose_major_purchase                 39252 non-null float64\n",
      "purpose_medical                        39252 non-null float64\n",
      "purpose_moving                         39252 non-null float64\n",
      "purpose_other                          39252 non-null float64\n",
      "purpose_renewable_energy               39252 non-null float64\n",
      "purpose_small_business                 39252 non-null float64\n",
      "purpose_vacation                       39252 non-null float64\n",
      "purpose_wedding                        39252 non-null float64\n",
      "term_ 36 months                        39252 non-null float64\n",
      "term_ 60 months                        39252 non-null float64\n",
      "dtypes: float64(38), int64(3)\n",
      "memory usage: 12.3 MB\n"
     ]
    }
   ],
   "source": [
    "loan_table.info()"
   ]
  },
  {
   "cell_type": "markdown",
   "metadata": {},
   "source": [
    "### Max in Min loan Amount"
   ]
  },
  {
   "cell_type": "code",
   "execution_count": 58,
   "metadata": {},
   "outputs": [
    {
     "data": {
      "text/plain": [
       "35000.0"
      ]
     },
     "execution_count": 58,
     "metadata": {},
     "output_type": "execute_result"
    }
   ],
   "source": [
    "loan_table.loan_amnt.max()"
   ]
  },
  {
   "cell_type": "code",
   "execution_count": 59,
   "metadata": {},
   "outputs": [
    {
     "data": {
      "text/plain": [
       "500.0"
      ]
     },
     "execution_count": 59,
     "metadata": {},
     "output_type": "execute_result"
    }
   ],
   "source": [
    "loan_table.loan_amnt.min()"
   ]
  },
  {
   "cell_type": "markdown",
   "metadata": {},
   "source": [
    "### Average loan amount"
   ]
  },
  {
   "cell_type": "code",
   "execution_count": 194,
   "metadata": {},
   "outputs": [
    {
     "data": {
      "text/plain": [
       "11137.18027106899"
      ]
     },
     "execution_count": 194,
     "metadata": {},
     "output_type": "execute_result"
    }
   ],
   "source": [
    "loan_table.loan_amnt.mean()"
   ]
  },
  {
   "cell_type": "markdown",
   "metadata": {},
   "source": [
    "### count of loans by it's purpose\n",
    "because purpose has only 0 or 1 value, sum works fine when counting"
   ]
  },
  {
   "cell_type": "code",
   "execution_count": 192,
   "metadata": {},
   "outputs": [
    {
     "data": {
      "text/plain": [
       "array([0., 1.])"
      ]
     },
     "execution_count": 192,
     "metadata": {},
     "output_type": "execute_result"
    }
   ],
   "source": [
    "loan_table['purpose_car'].unique()"
   ]
  },
  {
   "cell_type": "code",
   "execution_count": 193,
   "metadata": {},
   "outputs": [
    {
     "data": {
      "text/plain": [
       "purpose_car                   2\n",
       "purpose_credit_card           2\n",
       "purpose_debt_consolidation    2\n",
       "purpose_educational           2\n",
       "purpose_home_improvement      2\n",
       "purpose_house                 2\n",
       "purpose_major_purchase        2\n",
       "purpose_medical               2\n",
       "purpose_moving                2\n",
       "purpose_other                 2\n",
       "purpose_renewable_energy      2\n",
       "purpose_small_business        2\n",
       "purpose_vacation              2\n",
       "purpose_wedding               2\n",
       "dtype: int64"
      ]
     },
     "execution_count": 193,
     "metadata": {},
     "output_type": "execute_result"
    }
   ],
   "source": [
    "loan_table.iloc[:,25:39].nunique()"
   ]
  },
  {
   "cell_type": "code",
   "execution_count": 188,
   "metadata": {},
   "outputs": [
    {
     "data": {
      "text/plain": [
       "purpose_car                    1536.0\n",
       "purpose_credit_card            5079.0\n",
       "purpose_debt_consolidation    18376.0\n",
       "purpose_educational             325.0\n",
       "purpose_home_improvement       2951.0\n",
       "purpose_house                   372.0\n",
       "purpose_major_purchase         2184.0\n",
       "purpose_medical                 690.0\n",
       "purpose_moving                  582.0\n",
       "purpose_other                  3938.0\n",
       "purpose_renewable_energy        103.0\n",
       "purpose_small_business         1797.0\n",
       "purpose_vacation                378.0\n",
       "purpose_wedding                 941.0\n",
       "dtype: float64"
      ]
     },
     "execution_count": 188,
     "metadata": {},
     "output_type": "execute_result"
    }
   ],
   "source": [
    "loan_table.iloc[:,25:39].sum()"
   ]
  },
  {
   "cell_type": "markdown",
   "metadata": {},
   "source": [
    "### list of top 10 loans loan amounts & their purposes"
   ]
  },
  {
   "cell_type": "code",
   "execution_count": 186,
   "metadata": {},
   "outputs": [
    {
     "data": {
      "text/html": [
       "<div>\n",
       "<style scoped>\n",
       "    .dataframe tbody tr th:only-of-type {\n",
       "        vertical-align: middle;\n",
       "    }\n",
       "\n",
       "    .dataframe tbody tr th {\n",
       "        vertical-align: top;\n",
       "    }\n",
       "\n",
       "    .dataframe thead th {\n",
       "        text-align: right;\n",
       "    }\n",
       "</style>\n",
       "<table border=\"1\" class=\"dataframe\">\n",
       "  <thead>\n",
       "    <tr style=\"text-align: right;\">\n",
       "      <th></th>\n",
       "      <th>loan_amnt</th>\n",
       "      <th>purpose_car</th>\n",
       "      <th>purpose_credit_card</th>\n",
       "      <th>purpose_debt_consolidation</th>\n",
       "      <th>purpose_educational</th>\n",
       "      <th>purpose_home_improvement</th>\n",
       "      <th>purpose_house</th>\n",
       "      <th>purpose_major_purchase</th>\n",
       "      <th>purpose_medical</th>\n",
       "      <th>purpose_moving</th>\n",
       "      <th>purpose_other</th>\n",
       "      <th>purpose_renewable_energy</th>\n",
       "      <th>purpose_small_business</th>\n",
       "      <th>purpose_vacation</th>\n",
       "      <th>purpose_wedding</th>\n",
       "    </tr>\n",
       "  </thead>\n",
       "  <tbody>\n",
       "    <tr>\n",
       "      <th>11423</th>\n",
       "      <td>35000.0</td>\n",
       "      <td>0.0</td>\n",
       "      <td>0.0</td>\n",
       "      <td>0.0</td>\n",
       "      <td>0.0</td>\n",
       "      <td>1.0</td>\n",
       "      <td>0.0</td>\n",
       "      <td>0.0</td>\n",
       "      <td>0.0</td>\n",
       "      <td>0.0</td>\n",
       "      <td>0.0</td>\n",
       "      <td>0.0</td>\n",
       "      <td>0.0</td>\n",
       "      <td>0.0</td>\n",
       "      <td>0.0</td>\n",
       "    </tr>\n",
       "    <tr>\n",
       "      <th>9446</th>\n",
       "      <td>35000.0</td>\n",
       "      <td>0.0</td>\n",
       "      <td>0.0</td>\n",
       "      <td>0.0</td>\n",
       "      <td>0.0</td>\n",
       "      <td>0.0</td>\n",
       "      <td>0.0</td>\n",
       "      <td>0.0</td>\n",
       "      <td>0.0</td>\n",
       "      <td>0.0</td>\n",
       "      <td>1.0</td>\n",
       "      <td>0.0</td>\n",
       "      <td>0.0</td>\n",
       "      <td>0.0</td>\n",
       "      <td>0.0</td>\n",
       "    </tr>\n",
       "    <tr>\n",
       "      <th>15145</th>\n",
       "      <td>35000.0</td>\n",
       "      <td>0.0</td>\n",
       "      <td>0.0</td>\n",
       "      <td>0.0</td>\n",
       "      <td>0.0</td>\n",
       "      <td>0.0</td>\n",
       "      <td>0.0</td>\n",
       "      <td>1.0</td>\n",
       "      <td>0.0</td>\n",
       "      <td>0.0</td>\n",
       "      <td>0.0</td>\n",
       "      <td>0.0</td>\n",
       "      <td>0.0</td>\n",
       "      <td>0.0</td>\n",
       "      <td>0.0</td>\n",
       "    </tr>\n",
       "    <tr>\n",
       "      <th>14515</th>\n",
       "      <td>35000.0</td>\n",
       "      <td>0.0</td>\n",
       "      <td>0.0</td>\n",
       "      <td>1.0</td>\n",
       "      <td>0.0</td>\n",
       "      <td>0.0</td>\n",
       "      <td>0.0</td>\n",
       "      <td>0.0</td>\n",
       "      <td>0.0</td>\n",
       "      <td>0.0</td>\n",
       "      <td>0.0</td>\n",
       "      <td>0.0</td>\n",
       "      <td>0.0</td>\n",
       "      <td>0.0</td>\n",
       "      <td>0.0</td>\n",
       "    </tr>\n",
       "    <tr>\n",
       "      <th>2843</th>\n",
       "      <td>35000.0</td>\n",
       "      <td>0.0</td>\n",
       "      <td>0.0</td>\n",
       "      <td>1.0</td>\n",
       "      <td>0.0</td>\n",
       "      <td>0.0</td>\n",
       "      <td>0.0</td>\n",
       "      <td>0.0</td>\n",
       "      <td>0.0</td>\n",
       "      <td>0.0</td>\n",
       "      <td>0.0</td>\n",
       "      <td>0.0</td>\n",
       "      <td>0.0</td>\n",
       "      <td>0.0</td>\n",
       "      <td>0.0</td>\n",
       "    </tr>\n",
       "    <tr>\n",
       "      <th>15479</th>\n",
       "      <td>35000.0</td>\n",
       "      <td>0.0</td>\n",
       "      <td>0.0</td>\n",
       "      <td>0.0</td>\n",
       "      <td>0.0</td>\n",
       "      <td>1.0</td>\n",
       "      <td>0.0</td>\n",
       "      <td>0.0</td>\n",
       "      <td>0.0</td>\n",
       "      <td>0.0</td>\n",
       "      <td>0.0</td>\n",
       "      <td>0.0</td>\n",
       "      <td>0.0</td>\n",
       "      <td>0.0</td>\n",
       "      <td>0.0</td>\n",
       "    </tr>\n",
       "    <tr>\n",
       "      <th>1561</th>\n",
       "      <td>35000.0</td>\n",
       "      <td>0.0</td>\n",
       "      <td>0.0</td>\n",
       "      <td>0.0</td>\n",
       "      <td>0.0</td>\n",
       "      <td>0.0</td>\n",
       "      <td>0.0</td>\n",
       "      <td>0.0</td>\n",
       "      <td>0.0</td>\n",
       "      <td>0.0</td>\n",
       "      <td>0.0</td>\n",
       "      <td>0.0</td>\n",
       "      <td>1.0</td>\n",
       "      <td>0.0</td>\n",
       "      <td>0.0</td>\n",
       "    </tr>\n",
       "    <tr>\n",
       "      <th>14824</th>\n",
       "      <td>35000.0</td>\n",
       "      <td>0.0</td>\n",
       "      <td>0.0</td>\n",
       "      <td>1.0</td>\n",
       "      <td>0.0</td>\n",
       "      <td>0.0</td>\n",
       "      <td>0.0</td>\n",
       "      <td>0.0</td>\n",
       "      <td>0.0</td>\n",
       "      <td>0.0</td>\n",
       "      <td>0.0</td>\n",
       "      <td>0.0</td>\n",
       "      <td>0.0</td>\n",
       "      <td>0.0</td>\n",
       "      <td>0.0</td>\n",
       "    </tr>\n",
       "    <tr>\n",
       "      <th>14893</th>\n",
       "      <td>35000.0</td>\n",
       "      <td>0.0</td>\n",
       "      <td>0.0</td>\n",
       "      <td>1.0</td>\n",
       "      <td>0.0</td>\n",
       "      <td>0.0</td>\n",
       "      <td>0.0</td>\n",
       "      <td>0.0</td>\n",
       "      <td>0.0</td>\n",
       "      <td>0.0</td>\n",
       "      <td>0.0</td>\n",
       "      <td>0.0</td>\n",
       "      <td>0.0</td>\n",
       "      <td>0.0</td>\n",
       "      <td>0.0</td>\n",
       "    </tr>\n",
       "    <tr>\n",
       "      <th>17221</th>\n",
       "      <td>35000.0</td>\n",
       "      <td>0.0</td>\n",
       "      <td>0.0</td>\n",
       "      <td>1.0</td>\n",
       "      <td>0.0</td>\n",
       "      <td>0.0</td>\n",
       "      <td>0.0</td>\n",
       "      <td>0.0</td>\n",
       "      <td>0.0</td>\n",
       "      <td>0.0</td>\n",
       "      <td>0.0</td>\n",
       "      <td>0.0</td>\n",
       "      <td>0.0</td>\n",
       "      <td>0.0</td>\n",
       "      <td>0.0</td>\n",
       "    </tr>\n",
       "  </tbody>\n",
       "</table>\n",
       "</div>"
      ],
      "text/plain": [
       "       loan_amnt  purpose_car  purpose_credit_card  \\\n",
       "11423    35000.0          0.0                  0.0   \n",
       "9446     35000.0          0.0                  0.0   \n",
       "15145    35000.0          0.0                  0.0   \n",
       "14515    35000.0          0.0                  0.0   \n",
       "2843     35000.0          0.0                  0.0   \n",
       "15479    35000.0          0.0                  0.0   \n",
       "1561     35000.0          0.0                  0.0   \n",
       "14824    35000.0          0.0                  0.0   \n",
       "14893    35000.0          0.0                  0.0   \n",
       "17221    35000.0          0.0                  0.0   \n",
       "\n",
       "       purpose_debt_consolidation  purpose_educational  \\\n",
       "11423                         0.0                  0.0   \n",
       "9446                          0.0                  0.0   \n",
       "15145                         0.0                  0.0   \n",
       "14515                         1.0                  0.0   \n",
       "2843                          1.0                  0.0   \n",
       "15479                         0.0                  0.0   \n",
       "1561                          0.0                  0.0   \n",
       "14824                         1.0                  0.0   \n",
       "14893                         1.0                  0.0   \n",
       "17221                         1.0                  0.0   \n",
       "\n",
       "       purpose_home_improvement  purpose_house  purpose_major_purchase  \\\n",
       "11423                       1.0            0.0                     0.0   \n",
       "9446                        0.0            0.0                     0.0   \n",
       "15145                       0.0            0.0                     1.0   \n",
       "14515                       0.0            0.0                     0.0   \n",
       "2843                        0.0            0.0                     0.0   \n",
       "15479                       1.0            0.0                     0.0   \n",
       "1561                        0.0            0.0                     0.0   \n",
       "14824                       0.0            0.0                     0.0   \n",
       "14893                       0.0            0.0                     0.0   \n",
       "17221                       0.0            0.0                     0.0   \n",
       "\n",
       "       purpose_medical  purpose_moving  purpose_other  \\\n",
       "11423              0.0             0.0            0.0   \n",
       "9446               0.0             0.0            1.0   \n",
       "15145              0.0             0.0            0.0   \n",
       "14515              0.0             0.0            0.0   \n",
       "2843               0.0             0.0            0.0   \n",
       "15479              0.0             0.0            0.0   \n",
       "1561               0.0             0.0            0.0   \n",
       "14824              0.0             0.0            0.0   \n",
       "14893              0.0             0.0            0.0   \n",
       "17221              0.0             0.0            0.0   \n",
       "\n",
       "       purpose_renewable_energy  purpose_small_business  purpose_vacation  \\\n",
       "11423                       0.0                     0.0               0.0   \n",
       "9446                        0.0                     0.0               0.0   \n",
       "15145                       0.0                     0.0               0.0   \n",
       "14515                       0.0                     0.0               0.0   \n",
       "2843                        0.0                     0.0               0.0   \n",
       "15479                       0.0                     0.0               0.0   \n",
       "1561                        0.0                     1.0               0.0   \n",
       "14824                       0.0                     0.0               0.0   \n",
       "14893                       0.0                     0.0               0.0   \n",
       "17221                       0.0                     0.0               0.0   \n",
       "\n",
       "       purpose_wedding  \n",
       "11423              0.0  \n",
       "9446               0.0  \n",
       "15145              0.0  \n",
       "14515              0.0  \n",
       "2843               0.0  \n",
       "15479              0.0  \n",
       "1561               0.0  \n",
       "14824              0.0  \n",
       "14893              0.0  \n",
       "17221              0.0  "
      ]
     },
     "execution_count": 186,
     "metadata": {},
     "output_type": "execute_result"
    }
   ],
   "source": [
    "b = loan_table.sort_values('loan_amnt', ascending=False).head(10)\n",
    "a = loan_table.filter(regex='purpose|loan_amnt').columns\n",
    "b.loc[:,a].head(10)"
   ]
  },
  {
   "cell_type": "code",
   "execution_count": null,
   "metadata": {},
   "outputs": [],
   "source": []
  }
 ],
 "metadata": {
  "kernelspec": {
   "display_name": "Python 3",
   "language": "python",
   "name": "python3"
  },
  "language_info": {
   "codemirror_mode": {
    "name": "ipython",
    "version": 3
   },
   "file_extension": ".py",
   "mimetype": "text/x-python",
   "name": "python",
   "nbconvert_exporter": "python",
   "pygments_lexer": "ipython3",
   "version": "3.7.3"
  }
 },
 "nbformat": 4,
 "nbformat_minor": 2
}
