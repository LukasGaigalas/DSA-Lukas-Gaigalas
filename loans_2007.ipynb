{
 "cells": [
  {
   "cell_type": "markdown",
   "metadata": {},
   "source": [
    "# Hw1"
   ]
  },
  {
   "cell_type": "markdown",
   "metadata": {},
   "source": [
    "### Importing libraries"
   ]
  },
  {
   "cell_type": "code",
   "execution_count": 1,
   "metadata": {},
   "outputs": [],
   "source": [
    "import pandas as pd\n",
    "import numpy as np\n",
    "import requests\n",
    "import io"
   ]
  },
  {
   "cell_type": "markdown",
   "metadata": {},
   "source": [
    "### Importing data\n",
    "Importing directly from git, it's more awesome that way and I haven't try that before"
   ]
  },
  {
   "cell_type": "code",
   "execution_count": 2,
   "metadata": {},
   "outputs": [],
   "source": [
    "url = \"https://raw.githubusercontent.com/dosei1/Lending-Club-Loan-Data/master/loans_2007.csv\"\n",
    "s=requests.get(url).content\n",
    "loan_table=pd.read_csv(io.StringIO(s.decode('utf-8')))"
   ]
  },
  {
   "cell_type": "markdown",
   "metadata": {},
   "source": [
    "### Top 5 rows"
   ]
  },
  {
   "cell_type": "code",
   "execution_count": 3,
   "metadata": {},
   "outputs": [
    {
     "data": {
      "text/html": [
       "<div>\n",
       "<style scoped>\n",
       "    .dataframe tbody tr th:only-of-type {\n",
       "        vertical-align: middle;\n",
       "    }\n",
       "\n",
       "    .dataframe tbody tr th {\n",
       "        vertical-align: top;\n",
       "    }\n",
       "\n",
       "    .dataframe thead th {\n",
       "        text-align: right;\n",
       "    }\n",
       "</style>\n",
       "<table border=\"1\" class=\"dataframe\">\n",
       "  <thead>\n",
       "    <tr style=\"text-align: right;\">\n",
       "      <th></th>\n",
       "      <th>loan_amnt</th>\n",
       "      <th>int_rate</th>\n",
       "      <th>installment</th>\n",
       "      <th>emp_length</th>\n",
       "      <th>annual_inc</th>\n",
       "      <th>loan_status</th>\n",
       "      <th>zip_code</th>\n",
       "      <th>dti</th>\n",
       "      <th>delinq_2yrs</th>\n",
       "      <th>fico_range_high</th>\n",
       "      <th>...</th>\n",
       "      <th>purpose_major_purchase</th>\n",
       "      <th>purpose_medical</th>\n",
       "      <th>purpose_moving</th>\n",
       "      <th>purpose_other</th>\n",
       "      <th>purpose_renewable_energy</th>\n",
       "      <th>purpose_small_business</th>\n",
       "      <th>purpose_vacation</th>\n",
       "      <th>purpose_wedding</th>\n",
       "      <th>term_ 36 months</th>\n",
       "      <th>term_ 60 months</th>\n",
       "    </tr>\n",
       "  </thead>\n",
       "  <tbody>\n",
       "    <tr>\n",
       "      <th>0</th>\n",
       "      <td>5000.0</td>\n",
       "      <td>10.65</td>\n",
       "      <td>162.87</td>\n",
       "      <td>10</td>\n",
       "      <td>24000.0</td>\n",
       "      <td>1</td>\n",
       "      <td>860</td>\n",
       "      <td>27.65</td>\n",
       "      <td>0.0</td>\n",
       "      <td>739.0</td>\n",
       "      <td>...</td>\n",
       "      <td>0.0</td>\n",
       "      <td>0.0</td>\n",
       "      <td>0.0</td>\n",
       "      <td>0.0</td>\n",
       "      <td>0.0</td>\n",
       "      <td>0.0</td>\n",
       "      <td>0.0</td>\n",
       "      <td>0.0</td>\n",
       "      <td>1.0</td>\n",
       "      <td>0.0</td>\n",
       "    </tr>\n",
       "    <tr>\n",
       "      <th>1</th>\n",
       "      <td>2500.0</td>\n",
       "      <td>15.27</td>\n",
       "      <td>59.83</td>\n",
       "      <td>0</td>\n",
       "      <td>30000.0</td>\n",
       "      <td>0</td>\n",
       "      <td>309</td>\n",
       "      <td>1.00</td>\n",
       "      <td>0.0</td>\n",
       "      <td>744.0</td>\n",
       "      <td>...</td>\n",
       "      <td>0.0</td>\n",
       "      <td>0.0</td>\n",
       "      <td>0.0</td>\n",
       "      <td>0.0</td>\n",
       "      <td>0.0</td>\n",
       "      <td>0.0</td>\n",
       "      <td>0.0</td>\n",
       "      <td>0.0</td>\n",
       "      <td>0.0</td>\n",
       "      <td>1.0</td>\n",
       "    </tr>\n",
       "    <tr>\n",
       "      <th>2</th>\n",
       "      <td>2400.0</td>\n",
       "      <td>15.96</td>\n",
       "      <td>84.33</td>\n",
       "      <td>10</td>\n",
       "      <td>12252.0</td>\n",
       "      <td>1</td>\n",
       "      <td>606</td>\n",
       "      <td>8.72</td>\n",
       "      <td>0.0</td>\n",
       "      <td>739.0</td>\n",
       "      <td>...</td>\n",
       "      <td>0.0</td>\n",
       "      <td>0.0</td>\n",
       "      <td>0.0</td>\n",
       "      <td>0.0</td>\n",
       "      <td>0.0</td>\n",
       "      <td>1.0</td>\n",
       "      <td>0.0</td>\n",
       "      <td>0.0</td>\n",
       "      <td>1.0</td>\n",
       "      <td>0.0</td>\n",
       "    </tr>\n",
       "    <tr>\n",
       "      <th>3</th>\n",
       "      <td>10000.0</td>\n",
       "      <td>13.49</td>\n",
       "      <td>339.31</td>\n",
       "      <td>10</td>\n",
       "      <td>49200.0</td>\n",
       "      <td>1</td>\n",
       "      <td>917</td>\n",
       "      <td>20.00</td>\n",
       "      <td>0.0</td>\n",
       "      <td>694.0</td>\n",
       "      <td>...</td>\n",
       "      <td>0.0</td>\n",
       "      <td>0.0</td>\n",
       "      <td>0.0</td>\n",
       "      <td>1.0</td>\n",
       "      <td>0.0</td>\n",
       "      <td>0.0</td>\n",
       "      <td>0.0</td>\n",
       "      <td>0.0</td>\n",
       "      <td>1.0</td>\n",
       "      <td>0.0</td>\n",
       "    </tr>\n",
       "    <tr>\n",
       "      <th>4</th>\n",
       "      <td>5000.0</td>\n",
       "      <td>7.90</td>\n",
       "      <td>156.46</td>\n",
       "      <td>3</td>\n",
       "      <td>36000.0</td>\n",
       "      <td>1</td>\n",
       "      <td>852</td>\n",
       "      <td>11.20</td>\n",
       "      <td>0.0</td>\n",
       "      <td>734.0</td>\n",
       "      <td>...</td>\n",
       "      <td>0.0</td>\n",
       "      <td>0.0</td>\n",
       "      <td>0.0</td>\n",
       "      <td>0.0</td>\n",
       "      <td>0.0</td>\n",
       "      <td>0.0</td>\n",
       "      <td>0.0</td>\n",
       "      <td>1.0</td>\n",
       "      <td>1.0</td>\n",
       "      <td>0.0</td>\n",
       "    </tr>\n",
       "  </tbody>\n",
       "</table>\n",
       "<p>5 rows × 41 columns</p>\n",
       "</div>"
      ],
      "text/plain": [
       "   loan_amnt  int_rate  installment  emp_length  annual_inc  loan_status  \\\n",
       "0     5000.0     10.65       162.87          10     24000.0            1   \n",
       "1     2500.0     15.27        59.83           0     30000.0            0   \n",
       "2     2400.0     15.96        84.33          10     12252.0            1   \n",
       "3    10000.0     13.49       339.31          10     49200.0            1   \n",
       "4     5000.0      7.90       156.46           3     36000.0            1   \n",
       "\n",
       "   zip_code    dti  delinq_2yrs  fico_range_high  ...  purpose_major_purchase  \\\n",
       "0       860  27.65          0.0            739.0  ...                     0.0   \n",
       "1       309   1.00          0.0            744.0  ...                     0.0   \n",
       "2       606   8.72          0.0            739.0  ...                     0.0   \n",
       "3       917  20.00          0.0            694.0  ...                     0.0   \n",
       "4       852  11.20          0.0            734.0  ...                     0.0   \n",
       "\n",
       "   purpose_medical  purpose_moving  purpose_other  purpose_renewable_energy  \\\n",
       "0              0.0             0.0            0.0                       0.0   \n",
       "1              0.0             0.0            0.0                       0.0   \n",
       "2              0.0             0.0            0.0                       0.0   \n",
       "3              0.0             0.0            1.0                       0.0   \n",
       "4              0.0             0.0            0.0                       0.0   \n",
       "\n",
       "   purpose_small_business  purpose_vacation  purpose_wedding  term_ 36 months  \\\n",
       "0                     0.0               0.0              0.0              1.0   \n",
       "1                     0.0               0.0              0.0              0.0   \n",
       "2                     1.0               0.0              0.0              1.0   \n",
       "3                     0.0               0.0              0.0              1.0   \n",
       "4                     0.0               0.0              1.0              1.0   \n",
       "\n",
       "   term_ 60 months  \n",
       "0              0.0  \n",
       "1              1.0  \n",
       "2              0.0  \n",
       "3              0.0  \n",
       "4              0.0  \n",
       "\n",
       "[5 rows x 41 columns]"
      ]
     },
     "execution_count": 3,
     "metadata": {},
     "output_type": "execute_result"
    }
   ],
   "source": [
    "loan_table.head(5)"
   ]
  },
  {
   "cell_type": "markdown",
   "metadata": {},
   "source": [
    "### (columns and rows)"
   ]
  },
  {
   "cell_type": "code",
   "execution_count": 44,
   "metadata": {},
   "outputs": [
    {
     "data": {
      "text/plain": [
       "(39252, 41)"
      ]
     },
     "execution_count": 44,
     "metadata": {},
     "output_type": "execute_result"
    }
   ],
   "source": [
    "loan_table.shape"
   ]
  },
  {
   "cell_type": "markdown",
   "metadata": {},
   "source": [
    "### Variables and their data types"
   ]
  },
  {
   "cell_type": "code",
   "execution_count": 48,
   "metadata": {},
   "outputs": [
    {
     "data": {
      "text/plain": [
       "loan_amnt                              float64\n",
       "int_rate                               float64\n",
       "installment                            float64\n",
       "emp_length                               int64\n",
       "annual_inc                             float64\n",
       "loan_status                              int64\n",
       "zip_code                                 int64\n",
       "dti                                    float64\n",
       "delinq_2yrs                            float64\n",
       "fico_range_high                        float64\n",
       "inq_last_6mths                         float64\n",
       "open_acc                               float64\n",
       "pub_rec                                float64\n",
       "revol_bal                              float64\n",
       "revol_util                             float64\n",
       "total_acc                              float64\n",
       "last_fico_range_high                   float64\n",
       "home_ownership_MORTGAGE                float64\n",
       "home_ownership_NONE                    float64\n",
       "home_ownership_OTHER                   float64\n",
       "home_ownership_OWN                     float64\n",
       "home_ownership_RENT                    float64\n",
       "verification_status_Not Verified       float64\n",
       "verification_status_Source Verified    float64\n",
       "verification_status_Verified           float64\n",
       "purpose_car                            float64\n",
       "purpose_credit_card                    float64\n",
       "purpose_debt_consolidation             float64\n",
       "purpose_educational                    float64\n",
       "purpose_home_improvement               float64\n",
       "purpose_house                          float64\n",
       "purpose_major_purchase                 float64\n",
       "purpose_medical                        float64\n",
       "purpose_moving                         float64\n",
       "purpose_other                          float64\n",
       "purpose_renewable_energy               float64\n",
       "purpose_small_business                 float64\n",
       "purpose_vacation                       float64\n",
       "purpose_wedding                        float64\n",
       "term_ 36 months                        float64\n",
       "term_ 60 months                        float64\n",
       "dtype: object"
      ]
     },
     "execution_count": 48,
     "metadata": {},
     "output_type": "execute_result"
    }
   ],
   "source": [
    "loan_table.dtypes"
   ]
  },
  {
   "cell_type": "code",
   "execution_count": 101,
   "metadata": {},
   "outputs": [
    {
     "name": "stdout",
     "output_type": "stream",
     "text": [
      "<class 'pandas.core.frame.DataFrame'>\n",
      "RangeIndex: 39252 entries, 0 to 39251\n",
      "Data columns (total 41 columns):\n",
      "loan_amnt                              39252 non-null float64\n",
      "int_rate                               39252 non-null float64\n",
      "installment                            39252 non-null float64\n",
      "emp_length                             39252 non-null int64\n",
      "annual_inc                             39252 non-null float64\n",
      "loan_status                            39252 non-null int64\n",
      "zip_code                               39252 non-null int64\n",
      "dti                                    39252 non-null float64\n",
      "delinq_2yrs                            39252 non-null float64\n",
      "fico_range_high                        39252 non-null float64\n",
      "inq_last_6mths                         39252 non-null float64\n",
      "open_acc                               39252 non-null float64\n",
      "pub_rec                                39252 non-null float64\n",
      "revol_bal                              39252 non-null float64\n",
      "revol_util                             39202 non-null float64\n",
      "total_acc                              39252 non-null float64\n",
      "last_fico_range_high                   39252 non-null float64\n",
      "home_ownership_MORTGAGE                39252 non-null float64\n",
      "home_ownership_NONE                    39252 non-null float64\n",
      "home_ownership_OTHER                   39252 non-null float64\n",
      "home_ownership_OWN                     39252 non-null float64\n",
      "home_ownership_RENT                    39252 non-null float64\n",
      "verification_status_Not Verified       39252 non-null float64\n",
      "verification_status_Source Verified    39252 non-null float64\n",
      "verification_status_Verified           39252 non-null float64\n",
      "purpose_car                            39252 non-null float64\n",
      "purpose_credit_card                    39252 non-null float64\n",
      "purpose_debt_consolidation             39252 non-null float64\n",
      "purpose_educational                    39252 non-null float64\n",
      "purpose_home_improvement               39252 non-null float64\n",
      "purpose_house                          39252 non-null float64\n",
      "purpose_major_purchase                 39252 non-null float64\n",
      "purpose_medical                        39252 non-null float64\n",
      "purpose_moving                         39252 non-null float64\n",
      "purpose_other                          39252 non-null float64\n",
      "purpose_renewable_energy               39252 non-null float64\n",
      "purpose_small_business                 39252 non-null float64\n",
      "purpose_vacation                       39252 non-null float64\n",
      "purpose_wedding                        39252 non-null float64\n",
      "term_ 36 months                        39252 non-null float64\n",
      "term_ 60 months                        39252 non-null float64\n",
      "dtypes: float64(38), int64(3)\n",
      "memory usage: 12.3 MB\n"
     ]
    }
   ],
   "source": [
    "loan_table.info()"
   ]
  },
  {
   "cell_type": "markdown",
   "metadata": {},
   "source": [
    "### Max in Min loan Amount"
   ]
  },
  {
   "cell_type": "code",
   "execution_count": 58,
   "metadata": {},
   "outputs": [
    {
     "data": {
      "text/plain": [
       "35000.0"
      ]
     },
     "execution_count": 58,
     "metadata": {},
     "output_type": "execute_result"
    }
   ],
   "source": [
    "loan_table.loan_amnt.max()"
   ]
  },
  {
   "cell_type": "code",
   "execution_count": 59,
   "metadata": {},
   "outputs": [
    {
     "data": {
      "text/plain": [
       "500.0"
      ]
     },
     "execution_count": 59,
     "metadata": {},
     "output_type": "execute_result"
    }
   ],
   "source": [
    "loan_table.loan_amnt.min()"
   ]
  },
  {
   "cell_type": "markdown",
   "metadata": {},
   "source": [
    "### Average loan amount"
   ]
  },
  {
   "cell_type": "code",
   "execution_count": 194,
   "metadata": {},
   "outputs": [
    {
     "data": {
      "text/plain": [
       "11137.18027106899"
      ]
     },
     "execution_count": 194,
     "metadata": {},
     "output_type": "execute_result"
    }
   ],
   "source": [
    "loan_table.loan_amnt.mean()"
   ]
  },
  {
   "cell_type": "markdown",
   "metadata": {},
   "source": [
    "### count of loans by it's purpose\n",
    "because purpose has only 0 or 1 value, sum works fine when counting"
   ]
  },
  {
   "cell_type": "code",
   "execution_count": 192,
   "metadata": {},
   "outputs": [
    {
     "data": {
      "text/plain": [
       "array([0., 1.])"
      ]
     },
     "execution_count": 192,
     "metadata": {},
     "output_type": "execute_result"
    }
   ],
   "source": [
    "loan_table['purpose_car'].unique()"
   ]
  },
  {
   "cell_type": "code",
   "execution_count": 193,
   "metadata": {},
   "outputs": [
    {
     "data": {
      "text/plain": [
       "purpose_car                   2\n",
       "purpose_credit_card           2\n",
       "purpose_debt_consolidation    2\n",
       "purpose_educational           2\n",
       "purpose_home_improvement      2\n",
       "purpose_house                 2\n",
       "purpose_major_purchase        2\n",
       "purpose_medical               2\n",
       "purpose_moving                2\n",
       "purpose_other                 2\n",
       "purpose_renewable_energy      2\n",
       "purpose_small_business        2\n",
       "purpose_vacation              2\n",
       "purpose_wedding               2\n",
       "dtype: int64"
      ]
     },
     "execution_count": 193,
     "metadata": {},
     "output_type": "execute_result"
    }
   ],
   "source": [
    "loan_table.iloc[:,25:39].nunique()"
   ]
  },
  {
   "cell_type": "code",
   "execution_count": 188,
   "metadata": {},
   "outputs": [
    {
     "data": {
      "text/plain": [
       "purpose_car                    1536.0\n",
       "purpose_credit_card            5079.0\n",
       "purpose_debt_consolidation    18376.0\n",
       "purpose_educational             325.0\n",
       "purpose_home_improvement       2951.0\n",
       "purpose_house                   372.0\n",
       "purpose_major_purchase         2184.0\n",
       "purpose_medical                 690.0\n",
       "purpose_moving                  582.0\n",
       "purpose_other                  3938.0\n",
       "purpose_renewable_energy        103.0\n",
       "purpose_small_business         1797.0\n",
       "purpose_vacation                378.0\n",
       "purpose_wedding                 941.0\n",
       "dtype: float64"
      ]
     },
     "execution_count": 188,
     "metadata": {},
     "output_type": "execute_result"
    }
   ],
   "source": [
    "loan_table.iloc[:,25:39].sum()"
   ]
  },
  {
   "cell_type": "markdown",
   "metadata": {},
   "source": [
    "### list of top 10 loans loan amounts & their purposes"
   ]
  },
  {
   "cell_type": "code",
   "execution_count": 186,
   "metadata": {},
   "outputs": [
    {
     "data": {
      "text/html": [
       "<div>\n",
       "<style scoped>\n",
       "    .dataframe tbody tr th:only-of-type {\n",
       "        vertical-align: middle;\n",
       "    }\n",
       "\n",
       "    .dataframe tbody tr th {\n",
       "        vertical-align: top;\n",
       "    }\n",
       "\n",
       "    .dataframe thead th {\n",
       "        text-align: right;\n",
       "    }\n",
       "</style>\n",
       "<table border=\"1\" class=\"dataframe\">\n",
       "  <thead>\n",
       "    <tr style=\"text-align: right;\">\n",
       "      <th></th>\n",
       "      <th>loan_amnt</th>\n",
       "      <th>purpose_car</th>\n",
       "      <th>purpose_credit_card</th>\n",
       "      <th>purpose_debt_consolidation</th>\n",
       "      <th>purpose_educational</th>\n",
       "      <th>purpose_home_improvement</th>\n",
       "      <th>purpose_house</th>\n",
       "      <th>purpose_major_purchase</th>\n",
       "      <th>purpose_medical</th>\n",
       "      <th>purpose_moving</th>\n",
       "      <th>purpose_other</th>\n",
       "      <th>purpose_renewable_energy</th>\n",
       "      <th>purpose_small_business</th>\n",
       "      <th>purpose_vacation</th>\n",
       "      <th>purpose_wedding</th>\n",
       "    </tr>\n",
       "  </thead>\n",
       "  <tbody>\n",
       "    <tr>\n",
       "      <th>11423</th>\n",
       "      <td>35000.0</td>\n",
       "      <td>0.0</td>\n",
       "      <td>0.0</td>\n",
       "      <td>0.0</td>\n",
       "      <td>0.0</td>\n",
       "      <td>1.0</td>\n",
       "      <td>0.0</td>\n",
       "      <td>0.0</td>\n",
       "      <td>0.0</td>\n",
       "      <td>0.0</td>\n",
       "      <td>0.0</td>\n",
       "      <td>0.0</td>\n",
       "      <td>0.0</td>\n",
       "      <td>0.0</td>\n",
       "      <td>0.0</td>\n",
       "    </tr>\n",
       "    <tr>\n",
       "      <th>9446</th>\n",
       "      <td>35000.0</td>\n",
       "      <td>0.0</td>\n",
       "      <td>0.0</td>\n",
       "      <td>0.0</td>\n",
       "      <td>0.0</td>\n",
       "      <td>0.0</td>\n",
       "      <td>0.0</td>\n",
       "      <td>0.0</td>\n",
       "      <td>0.0</td>\n",
       "      <td>0.0</td>\n",
       "      <td>1.0</td>\n",
       "      <td>0.0</td>\n",
       "      <td>0.0</td>\n",
       "      <td>0.0</td>\n",
       "      <td>0.0</td>\n",
       "    </tr>\n",
       "    <tr>\n",
       "      <th>15145</th>\n",
       "      <td>35000.0</td>\n",
       "      <td>0.0</td>\n",
       "      <td>0.0</td>\n",
       "      <td>0.0</td>\n",
       "      <td>0.0</td>\n",
       "      <td>0.0</td>\n",
       "      <td>0.0</td>\n",
       "      <td>1.0</td>\n",
       "      <td>0.0</td>\n",
       "      <td>0.0</td>\n",
       "      <td>0.0</td>\n",
       "      <td>0.0</td>\n",
       "      <td>0.0</td>\n",
       "      <td>0.0</td>\n",
       "      <td>0.0</td>\n",
       "    </tr>\n",
       "    <tr>\n",
       "      <th>14515</th>\n",
       "      <td>35000.0</td>\n",
       "      <td>0.0</td>\n",
       "      <td>0.0</td>\n",
       "      <td>1.0</td>\n",
       "      <td>0.0</td>\n",
       "      <td>0.0</td>\n",
       "      <td>0.0</td>\n",
       "      <td>0.0</td>\n",
       "      <td>0.0</td>\n",
       "      <td>0.0</td>\n",
       "      <td>0.0</td>\n",
       "      <td>0.0</td>\n",
       "      <td>0.0</td>\n",
       "      <td>0.0</td>\n",
       "      <td>0.0</td>\n",
       "    </tr>\n",
       "    <tr>\n",
       "      <th>2843</th>\n",
       "      <td>35000.0</td>\n",
       "      <td>0.0</td>\n",
       "      <td>0.0</td>\n",
       "      <td>1.0</td>\n",
       "      <td>0.0</td>\n",
       "      <td>0.0</td>\n",
       "      <td>0.0</td>\n",
       "      <td>0.0</td>\n",
       "      <td>0.0</td>\n",
       "      <td>0.0</td>\n",
       "      <td>0.0</td>\n",
       "      <td>0.0</td>\n",
       "      <td>0.0</td>\n",
       "      <td>0.0</td>\n",
       "      <td>0.0</td>\n",
       "    </tr>\n",
       "    <tr>\n",
       "      <th>15479</th>\n",
       "      <td>35000.0</td>\n",
       "      <td>0.0</td>\n",
       "      <td>0.0</td>\n",
       "      <td>0.0</td>\n",
       "      <td>0.0</td>\n",
       "      <td>1.0</td>\n",
       "      <td>0.0</td>\n",
       "      <td>0.0</td>\n",
       "      <td>0.0</td>\n",
       "      <td>0.0</td>\n",
       "      <td>0.0</td>\n",
       "      <td>0.0</td>\n",
       "      <td>0.0</td>\n",
       "      <td>0.0</td>\n",
       "      <td>0.0</td>\n",
       "    </tr>\n",
       "    <tr>\n",
       "      <th>1561</th>\n",
       "      <td>35000.0</td>\n",
       "      <td>0.0</td>\n",
       "      <td>0.0</td>\n",
       "      <td>0.0</td>\n",
       "      <td>0.0</td>\n",
       "      <td>0.0</td>\n",
       "      <td>0.0</td>\n",
       "      <td>0.0</td>\n",
       "      <td>0.0</td>\n",
       "      <td>0.0</td>\n",
       "      <td>0.0</td>\n",
       "      <td>0.0</td>\n",
       "      <td>1.0</td>\n",
       "      <td>0.0</td>\n",
       "      <td>0.0</td>\n",
       "    </tr>\n",
       "    <tr>\n",
       "      <th>14824</th>\n",
       "      <td>35000.0</td>\n",
       "      <td>0.0</td>\n",
       "      <td>0.0</td>\n",
       "      <td>1.0</td>\n",
       "      <td>0.0</td>\n",
       "      <td>0.0</td>\n",
       "      <td>0.0</td>\n",
       "      <td>0.0</td>\n",
       "      <td>0.0</td>\n",
       "      <td>0.0</td>\n",
       "      <td>0.0</td>\n",
       "      <td>0.0</td>\n",
       "      <td>0.0</td>\n",
       "      <td>0.0</td>\n",
       "      <td>0.0</td>\n",
       "    </tr>\n",
       "    <tr>\n",
       "      <th>14893</th>\n",
       "      <td>35000.0</td>\n",
       "      <td>0.0</td>\n",
       "      <td>0.0</td>\n",
       "      <td>1.0</td>\n",
       "      <td>0.0</td>\n",
       "      <td>0.0</td>\n",
       "      <td>0.0</td>\n",
       "      <td>0.0</td>\n",
       "      <td>0.0</td>\n",
       "      <td>0.0</td>\n",
       "      <td>0.0</td>\n",
       "      <td>0.0</td>\n",
       "      <td>0.0</td>\n",
       "      <td>0.0</td>\n",
       "      <td>0.0</td>\n",
       "    </tr>\n",
       "    <tr>\n",
       "      <th>17221</th>\n",
       "      <td>35000.0</td>\n",
       "      <td>0.0</td>\n",
       "      <td>0.0</td>\n",
       "      <td>1.0</td>\n",
       "      <td>0.0</td>\n",
       "      <td>0.0</td>\n",
       "      <td>0.0</td>\n",
       "      <td>0.0</td>\n",
       "      <td>0.0</td>\n",
       "      <td>0.0</td>\n",
       "      <td>0.0</td>\n",
       "      <td>0.0</td>\n",
       "      <td>0.0</td>\n",
       "      <td>0.0</td>\n",
       "      <td>0.0</td>\n",
       "    </tr>\n",
       "  </tbody>\n",
       "</table>\n",
       "</div>"
      ],
      "text/plain": [
       "       loan_amnt  purpose_car  purpose_credit_card  \\\n",
       "11423    35000.0          0.0                  0.0   \n",
       "9446     35000.0          0.0                  0.0   \n",
       "15145    35000.0          0.0                  0.0   \n",
       "14515    35000.0          0.0                  0.0   \n",
       "2843     35000.0          0.0                  0.0   \n",
       "15479    35000.0          0.0                  0.0   \n",
       "1561     35000.0          0.0                  0.0   \n",
       "14824    35000.0          0.0                  0.0   \n",
       "14893    35000.0          0.0                  0.0   \n",
       "17221    35000.0          0.0                  0.0   \n",
       "\n",
       "       purpose_debt_consolidation  purpose_educational  \\\n",
       "11423                         0.0                  0.0   \n",
       "9446                          0.0                  0.0   \n",
       "15145                         0.0                  0.0   \n",
       "14515                         1.0                  0.0   \n",
       "2843                          1.0                  0.0   \n",
       "15479                         0.0                  0.0   \n",
       "1561                          0.0                  0.0   \n",
       "14824                         1.0                  0.0   \n",
       "14893                         1.0                  0.0   \n",
       "17221                         1.0                  0.0   \n",
       "\n",
       "       purpose_home_improvement  purpose_house  purpose_major_purchase  \\\n",
       "11423                       1.0            0.0                     0.0   \n",
       "9446                        0.0            0.0                     0.0   \n",
       "15145                       0.0            0.0                     1.0   \n",
       "14515                       0.0            0.0                     0.0   \n",
       "2843                        0.0            0.0                     0.0   \n",
       "15479                       1.0            0.0                     0.0   \n",
       "1561                        0.0            0.0                     0.0   \n",
       "14824                       0.0            0.0                     0.0   \n",
       "14893                       0.0            0.0                     0.0   \n",
       "17221                       0.0            0.0                     0.0   \n",
       "\n",
       "       purpose_medical  purpose_moving  purpose_other  \\\n",
       "11423              0.0             0.0            0.0   \n",
       "9446               0.0             0.0            1.0   \n",
       "15145              0.0             0.0            0.0   \n",
       "14515              0.0             0.0            0.0   \n",
       "2843               0.0             0.0            0.0   \n",
       "15479              0.0             0.0            0.0   \n",
       "1561               0.0             0.0            0.0   \n",
       "14824              0.0             0.0            0.0   \n",
       "14893              0.0             0.0            0.0   \n",
       "17221              0.0             0.0            0.0   \n",
       "\n",
       "       purpose_renewable_energy  purpose_small_business  purpose_vacation  \\\n",
       "11423                       0.0                     0.0               0.0   \n",
       "9446                        0.0                     0.0               0.0   \n",
       "15145                       0.0                     0.0               0.0   \n",
       "14515                       0.0                     0.0               0.0   \n",
       "2843                        0.0                     0.0               0.0   \n",
       "15479                       0.0                     0.0               0.0   \n",
       "1561                        0.0                     1.0               0.0   \n",
       "14824                       0.0                     0.0               0.0   \n",
       "14893                       0.0                     0.0               0.0   \n",
       "17221                       0.0                     0.0               0.0   \n",
       "\n",
       "       purpose_wedding  \n",
       "11423              0.0  \n",
       "9446               0.0  \n",
       "15145              0.0  \n",
       "14515              0.0  \n",
       "2843               0.0  \n",
       "15479              0.0  \n",
       "1561               0.0  \n",
       "14824              0.0  \n",
       "14893              0.0  \n",
       "17221              0.0  "
      ]
     },
     "execution_count": 186,
     "metadata": {},
     "output_type": "execute_result"
    }
   ],
   "source": [
    "b = loan_table.sort_values('loan_amnt', ascending=False).head(10)\n",
    "a = loan_table.filter(regex='purpose|loan_amnt').columns\n",
    "b.loc[:,a].head(10)"
   ]
  },
  {
   "cell_type": "markdown",
   "metadata": {},
   "source": [
    "# HW2"
   ]
  },
  {
   "cell_type": "markdown",
   "metadata": {},
   "source": [
    "Visualization\n",
    "\n",
    "Description\n",
    "\n",
    "Create ipynb file that has code for:\n",
    "importing matplotlib & seaborn\n",
    "\n",
    "importing lending club data (https://github.com/dosei1/Lending-Club-Loan-Data/blob/master/loans_2007.csv), V rather than direct import from Git\n",
    "\n",
    "prints a histogram for loan amount\n",
    "\n",
    "prints a bar chart with sum of loan amount per purpose\n",
    "\n",
    "prints a boxplot for loan amount, print median + min + max + Q1+ Q3 + outliers and comment your findings\n",
    "\n",
    "print scatter plot for loans (y-axis for loans amount, x-axis for loan repayment term, color for purpose)\n",
    "\n",
    "Upload your ipynb to peergrade (use comments, no additional pdf interpretation is needed)"
   ]
  },
  {
   "cell_type": "code",
   "execution_count": 9,
   "metadata": {},
   "outputs": [],
   "source": [
    "import matplotlib.pyplot as plt\n",
    "import seaborn as sns"
   ]
  },
  {
   "cell_type": "code",
   "execution_count": 31,
   "metadata": {},
   "outputs": [
    {
     "data": {
      "text/plain": [
       "Text(0.5, 1.0, 'Histogram of loan amount')"
      ]
     },
     "execution_count": 31,
     "metadata": {},
     "output_type": "execute_result"
    },
    {
     "data": {
      "image/png": "[encoded data removed]",
      "text/plain": [
       "<Figure size 432x288 with 1 Axes>"
      ]
     },
     "metadata": {
      "needs_background": "light"
     },
     "output_type": "display_data"
    }
   ],
   "source": [
    "hist = loan_table['loan_amnt'].plot.hist(bins = 10) \n",
    "plt.xlabel(\"bin size of loan amount\")\n",
    "plt.title(\"Histogram of loan amount\")"
   ]
  },
  {
   "cell_type": "markdown",
   "metadata": {},
   "source": [
    "x = chipo.groupby(\"item_name\").sum()\n",
    "x.head()"
   ]
  },
  {
   "cell_type": "code",
   "execution_count": 233,
   "metadata": {},
   "outputs": [
    {
     "data": {
      "text/plain": [
       "purpose_car\n",
       "0.0    426821175.0\n",
       "1.0     10335425.0\n",
       "Name: loan_amnt, dtype: float64"
      ]
     },
     "execution_count": 233,
     "metadata": {},
     "output_type": "execute_result"
    }
   ],
   "source": [
    "loan_table.groupby(by=['purpose_car']).sum()['loan_amnt']"
   ]
  },
  {
   "cell_type": "code",
   "execution_count": 14,
   "metadata": {},
   "outputs": [
    {
     "data": {
      "text/html": [
       "<div>\n",
       "<style scoped>\n",
       "    .dataframe tbody tr th:only-of-type {\n",
       "        vertical-align: middle;\n",
       "    }\n",
       "\n",
       "    .dataframe tbody tr th {\n",
       "        vertical-align: top;\n",
       "    }\n",
       "\n",
       "    .dataframe thead th {\n",
       "        text-align: right;\n",
       "    }\n",
       "</style>\n",
       "<table border=\"1\" class=\"dataframe\">\n",
       "  <thead>\n",
       "    <tr style=\"text-align: right;\">\n",
       "      <th></th>\n",
       "      <th>loan_amnt</th>\n",
       "      <th>loan amnt in mil</th>\n",
       "    </tr>\n",
       "    <tr>\n",
       "      <th>variable</th>\n",
       "      <th></th>\n",
       "      <th></th>\n",
       "    </tr>\n",
       "  </thead>\n",
       "  <tbody>\n",
       "    <tr>\n",
       "      <th>purpose_debt_consolidation</th>\n",
       "      <td>231670025.0</td>\n",
       "      <td>231.67</td>\n",
       "    </tr>\n",
       "    <tr>\n",
       "      <th>purpose_credit_card</th>\n",
       "      <td>59139400.0</td>\n",
       "      <td>59.14</td>\n",
       "    </tr>\n",
       "    <tr>\n",
       "      <th>purpose_home_improvement</th>\n",
       "      <td>33798450.0</td>\n",
       "      <td>33.80</td>\n",
       "    </tr>\n",
       "    <tr>\n",
       "      <th>purpose_other</th>\n",
       "      <td>31418650.0</td>\n",
       "      <td>31.42</td>\n",
       "    </tr>\n",
       "    <tr>\n",
       "      <th>purpose_small_business</th>\n",
       "      <td>24200475.0</td>\n",
       "      <td>24.20</td>\n",
       "    </tr>\n",
       "    <tr>\n",
       "      <th>purpose_major_purchase</th>\n",
       "      <td>17824325.0</td>\n",
       "      <td>17.82</td>\n",
       "    </tr>\n",
       "    <tr>\n",
       "      <th>purpose_car</th>\n",
       "      <td>10335425.0</td>\n",
       "      <td>10.34</td>\n",
       "    </tr>\n",
       "    <tr>\n",
       "      <th>purpose_wedding</th>\n",
       "      <td>9259800.0</td>\n",
       "      <td>9.26</td>\n",
       "    </tr>\n",
       "    <tr>\n",
       "      <th>purpose_medical</th>\n",
       "      <td>5705600.0</td>\n",
       "      <td>5.71</td>\n",
       "    </tr>\n",
       "    <tr>\n",
       "      <th>purpose_house</th>\n",
       "      <td>4789400.0</td>\n",
       "      <td>4.79</td>\n",
       "    </tr>\n",
       "    <tr>\n",
       "      <th>purpose_moving</th>\n",
       "      <td>3847875.0</td>\n",
       "      <td>3.85</td>\n",
       "    </tr>\n",
       "    <tr>\n",
       "      <th>purpose_educational</th>\n",
       "      <td>2213400.0</td>\n",
       "      <td>2.21</td>\n",
       "    </tr>\n",
       "    <tr>\n",
       "      <th>purpose_vacation</th>\n",
       "      <td>2055900.0</td>\n",
       "      <td>2.06</td>\n",
       "    </tr>\n",
       "    <tr>\n",
       "      <th>purpose_renewable_energy</th>\n",
       "      <td>897875.0</td>\n",
       "      <td>0.90</td>\n",
       "    </tr>\n",
       "  </tbody>\n",
       "</table>\n",
       "</div>"
      ],
      "text/plain": [
       "                              loan_amnt  loan amnt in mil\n",
       "variable                                                 \n",
       "purpose_debt_consolidation  231670025.0            231.67\n",
       "purpose_credit_card          59139400.0             59.14\n",
       "purpose_home_improvement     33798450.0             33.80\n",
       "purpose_other                31418650.0             31.42\n",
       "purpose_small_business       24200475.0             24.20\n",
       "purpose_major_purchase       17824325.0             17.82\n",
       "purpose_car                  10335425.0             10.34\n",
       "purpose_wedding               9259800.0              9.26\n",
       "purpose_medical               5705600.0              5.71\n",
       "purpose_house                 4789400.0              4.79\n",
       "purpose_moving                3847875.0              3.85\n",
       "purpose_educational           2213400.0              2.21\n",
       "purpose_vacation              2055900.0              2.06\n",
       "purpose_renewable_energy       897875.0              0.90"
      ]
     },
     "execution_count": 14,
     "metadata": {},
     "output_type": "execute_result"
    }
   ],
   "source": [
    "Purpose = [i for i in loan_table if i.startswith('purpose')]\n",
    "Melted_table = pd.melt(loan_table, id_vars='loan_amnt', value_vars=Purpose , value_name='purpose')\n",
    "\n",
    "\n",
    "Loan_purpose_table = Melted_table[Melted_table['purpose'] == 1].iloc[:, [0, 1] ]\n",
    "loan_purpose_G = Loan_purpose_table.groupby('variable').sum().sort_values(by=['loan_amnt'], ascending=False)\n",
    "loan_purpose_G['loan amnt in mil'] = (loan_purpose_G['loan_amnt'].astype(float)/1000000).round(2)\n",
    "loan_purpose_G"
   ]
  },
  {
   "cell_type": "code",
   "execution_count": 13,
   "metadata": {},
   "outputs": [
    {
     "data": {
      "image/png": "[encoded data removed]",
      "text/plain": [
       "<Figure size 432x288 with 1 Axes>"
      ]
     },
     "metadata": {
      "needs_background": "light"
     },
     "output_type": "display_data"
    }
   ],
   "source": [
    "#x = np.arange(len(lenta.index))\n",
    "\n",
    "plt.bar(loan_purpose_G.index, loan_purpose_G['loan amnt in mil'], align='center', alpha=0.5)\n",
    "#loan_purpose_G.loan_amnt.plot(kind='bar')\n",
    "plt.xticks(loan_purpose_G.index, rotation=90)\n",
    "plt.ylabel('Total loan amount in hundret mils')\n",
    "#plt.ylim(0, 200000000)\n",
    "plt.xlabel('Purpose')\n",
    "plt.title('Bar chart with sum of loan amount per purpose',   fontdict={'fontsize': 18}, pad=30)\n",
    "plt.show()"
   ]
  },
  {
   "cell_type": "code",
   "execution_count": 20,
   "metadata": {},
   "outputs": [
    {
     "data": {
      "image/png": "[encoded data removed]",
      "text/plain": [
       "<Figure size 432x288 with 1 Axes>"
      ]
     },
     "metadata": {
      "needs_background": "light"
     },
     "output_type": "display_data"
    }
   ],
   "source": [
    "def make_labels(ax, boxplot):\n",
    "\n",
    "    iqr = boxplot['boxes'][0]\n",
    "    caps = boxplot['caps']\n",
    "    med = boxplot['medians'][0]\n",
    "    fly = boxplot['fliers'][0]\n",
    "\n",
    "    xpos = med.get_xdata()\n",
    "\n",
    "    xoff = 0.10 * (xpos[1] - xpos[0])\n",
    "\n",
    "    xlabel = xpos[1] + xoff\n",
    "\n",
    "    median = med.get_ydata()[1]\n",
    "\n",
    "    Q1 = iqr.get_ydata().min()\n",
    "    Q3 = iqr.get_ydata().max()\n",
    "    \n",
    "    capbottom = caps[0].get_ydata()[0]\n",
    "    captop = caps[1].get_ydata()[0]\n",
    "    \n",
    "    #flier = fly.get_data()[-1]\n",
    "\n",
    "    ax.text(xlabel, median,\n",
    "            'Median = {}'.format(median), va='center')\n",
    "    ax.text(xlabel, Q1,\n",
    "            'Q1 = {}'.format(Q1), va='center')\n",
    "    ax.text(xlabel, Q3,\n",
    "            'Q3 = {}'.format(Q3), va='center')\n",
    "    ax.text(xlabel, capbottom,\n",
    "            'Bottom cap = {}'.format(capbottom), va='center')\n",
    "    ax.text(xlabel, captop,\n",
    "            'Top cap = {}'.format(captop), va='center')\n",
    "    \n",
    "    # Many fliers, so we loop over them and create a label for each one -> too many, can't see anything\n",
    "    #for flier in fly.get_ydata():\n",
    "        #ax.text(1 + xoff, flier, 'Flier = {}'.format(flier), va='center')\n",
    "\n",
    "red_diamond = dict(markerfacecolor='r', marker='D')\n",
    "fig3, ax3 = plt.subplots()\n",
    "ax3.set_title('Changed Outlier Symbols')\n",
    "\n",
    "my_boxes = ax3.boxplot(loan_table.loan_amnt, flierprops=red_diamond)\n",
    "\n",
    "make_labels(ax3, my_boxes)\n",
    "\n",
    "plt.show()"
   ]
  },
  {
   "cell_type": "code",
   "execution_count": 26,
   "metadata": {},
   "outputs": [
    {
     "data": {
      "text/plain": [
       "array([31825., 35000., 35000., ..., 30000., 30000., 35000.])"
      ]
     },
     "execution_count": 26,
     "metadata": {},
     "output_type": "execute_result"
    }
   ],
   "source": [
    "from matplotlib.cbook import boxplot_stats  \n",
    "boxplot_stats(loan_table.loan_amnt).pop(0)['fliers']"
   ]
  },
  {
   "cell_type": "code",
   "execution_count": 45,
   "metadata": {},
   "outputs": [
    {
     "data": {
      "text/html": [
       "<div>\n",
       "<style scoped>\n",
       "    .dataframe tbody tr th:only-of-type {\n",
       "        vertical-align: middle;\n",
       "    }\n",
       "\n",
       "    .dataframe tbody tr th {\n",
       "        vertical-align: top;\n",
       "    }\n",
       "\n",
       "    .dataframe thead th {\n",
       "        text-align: right;\n",
       "    }\n",
       "</style>\n",
       "<table border=\"1\" class=\"dataframe\">\n",
       "  <thead>\n",
       "    <tr style=\"text-align: right;\">\n",
       "      <th></th>\n",
       "      <th>loan_amnt</th>\n",
       "      <th>term_ 36 months</th>\n",
       "      <th>term_ 60 months</th>\n",
       "      <th>Loan_purpose</th>\n",
       "      <th>Purpose</th>\n",
       "    </tr>\n",
       "  </thead>\n",
       "  <tbody>\n",
       "    <tr>\n",
       "      <th>1</th>\n",
       "      <td>2500.0</td>\n",
       "      <td>0.0</td>\n",
       "      <td>1.0</td>\n",
       "      <td>purpose_car</td>\n",
       "      <td>1.0</td>\n",
       "    </tr>\n",
       "    <tr>\n",
       "      <th>6</th>\n",
       "      <td>3000.0</td>\n",
       "      <td>1.0</td>\n",
       "      <td>0.0</td>\n",
       "      <td>purpose_car</td>\n",
       "      <td>1.0</td>\n",
       "    </tr>\n",
       "    <tr>\n",
       "      <th>50</th>\n",
       "      <td>12000.0</td>\n",
       "      <td>1.0</td>\n",
       "      <td>0.0</td>\n",
       "      <td>purpose_car</td>\n",
       "      <td>1.0</td>\n",
       "    </tr>\n",
       "    <tr>\n",
       "      <th>83</th>\n",
       "      <td>4500.0</td>\n",
       "      <td>0.0</td>\n",
       "      <td>1.0</td>\n",
       "      <td>purpose_car</td>\n",
       "      <td>1.0</td>\n",
       "    </tr>\n",
       "    <tr>\n",
       "      <th>93</th>\n",
       "      <td>3500.0</td>\n",
       "      <td>1.0</td>\n",
       "      <td>0.0</td>\n",
       "      <td>purpose_car</td>\n",
       "      <td>1.0</td>\n",
       "    </tr>\n",
       "    <tr>\n",
       "      <th>158</th>\n",
       "      <td>8000.0</td>\n",
       "      <td>1.0</td>\n",
       "      <td>0.0</td>\n",
       "      <td>purpose_car</td>\n",
       "      <td>1.0</td>\n",
       "    </tr>\n",
       "    <tr>\n",
       "      <th>160</th>\n",
       "      <td>6000.0</td>\n",
       "      <td>1.0</td>\n",
       "      <td>0.0</td>\n",
       "      <td>purpose_car</td>\n",
       "      <td>1.0</td>\n",
       "    </tr>\n",
       "    <tr>\n",
       "      <th>245</th>\n",
       "      <td>5500.0</td>\n",
       "      <td>1.0</td>\n",
       "      <td>0.0</td>\n",
       "      <td>purpose_car</td>\n",
       "      <td>1.0</td>\n",
       "    </tr>\n",
       "    <tr>\n",
       "      <th>326</th>\n",
       "      <td>24000.0</td>\n",
       "      <td>1.0</td>\n",
       "      <td>0.0</td>\n",
       "      <td>purpose_car</td>\n",
       "      <td>1.0</td>\n",
       "    </tr>\n",
       "    <tr>\n",
       "      <th>373</th>\n",
       "      <td>4125.0</td>\n",
       "      <td>0.0</td>\n",
       "      <td>1.0</td>\n",
       "      <td>purpose_car</td>\n",
       "      <td>1.0</td>\n",
       "    </tr>\n",
       "  </tbody>\n",
       "</table>\n",
       "</div>"
      ],
      "text/plain": [
       "     loan_amnt  term_ 36 months  term_ 60 months Loan_purpose  Purpose\n",
       "1       2500.0              0.0              1.0  purpose_car      1.0\n",
       "6       3000.0              1.0              0.0  purpose_car      1.0\n",
       "50     12000.0              1.0              0.0  purpose_car      1.0\n",
       "83      4500.0              0.0              1.0  purpose_car      1.0\n",
       "93      3500.0              1.0              0.0  purpose_car      1.0\n",
       "158     8000.0              1.0              0.0  purpose_car      1.0\n",
       "160     6000.0              1.0              0.0  purpose_car      1.0\n",
       "245     5500.0              1.0              0.0  purpose_car      1.0\n",
       "326    24000.0              1.0              0.0  purpose_car      1.0\n",
       "373     4125.0              0.0              1.0  purpose_car      1.0"
      ]
     },
     "execution_count": 45,
     "metadata": {},
     "output_type": "execute_result"
    }
   ],
   "source": [
    "\n",
    "Purpose = [i for i in loan_table if i.startswith('purpose')]\n",
    "Melted_table_v2 = pd.melt(loan_table, id_vars=['loan_amnt','term_ 36 months','term_ 60 months'], \n",
    "                          value_vars=Purpose , value_name='Purpose')\n",
    "#Melted_table_v2\n",
    "\n",
    "Loan_term_table = Melted_table_v2[Melted_table_v2['Purpose'] == 1].iloc[:, [0, 1, 2, 3, 4] ]\n",
    "Loan_term_table.rename(columns={'variable': 'Loan_purpose'}, inplace=True)\n",
    "Loan_term_table.head(10)\n"
   ]
  },
  {
   "cell_type": "code",
   "execution_count": 46,
   "metadata": {},
   "outputs": [
    {
     "data": {
      "text/html": [
       "<div>\n",
       "<style scoped>\n",
       "    .dataframe tbody tr th:only-of-type {\n",
       "        vertical-align: middle;\n",
       "    }\n",
       "\n",
       "    .dataframe tbody tr th {\n",
       "        vertical-align: top;\n",
       "    }\n",
       "\n",
       "    .dataframe thead th {\n",
       "        text-align: right;\n",
       "    }\n",
       "</style>\n",
       "<table border=\"1\" class=\"dataframe\">\n",
       "  <thead>\n",
       "    <tr style=\"text-align: right;\">\n",
       "      <th></th>\n",
       "      <th>loan_amnt</th>\n",
       "      <th>Loan_purpose</th>\n",
       "      <th>variable</th>\n",
       "    </tr>\n",
       "  </thead>\n",
       "  <tbody>\n",
       "    <tr>\n",
       "      <th>1</th>\n",
       "      <td>3000.0</td>\n",
       "      <td>purpose_car</td>\n",
       "      <td>term_ 36 months</td>\n",
       "    </tr>\n",
       "    <tr>\n",
       "      <th>2</th>\n",
       "      <td>12000.0</td>\n",
       "      <td>purpose_car</td>\n",
       "      <td>term_ 36 months</td>\n",
       "    </tr>\n",
       "    <tr>\n",
       "      <th>4</th>\n",
       "      <td>3500.0</td>\n",
       "      <td>purpose_car</td>\n",
       "      <td>term_ 36 months</td>\n",
       "    </tr>\n",
       "    <tr>\n",
       "      <th>5</th>\n",
       "      <td>8000.0</td>\n",
       "      <td>purpose_car</td>\n",
       "      <td>term_ 36 months</td>\n",
       "    </tr>\n",
       "    <tr>\n",
       "      <th>6</th>\n",
       "      <td>6000.0</td>\n",
       "      <td>purpose_car</td>\n",
       "      <td>term_ 36 months</td>\n",
       "    </tr>\n",
       "    <tr>\n",
       "      <th>7</th>\n",
       "      <td>5500.0</td>\n",
       "      <td>purpose_car</td>\n",
       "      <td>term_ 36 months</td>\n",
       "    </tr>\n",
       "    <tr>\n",
       "      <th>8</th>\n",
       "      <td>24000.0</td>\n",
       "      <td>purpose_car</td>\n",
       "      <td>term_ 36 months</td>\n",
       "    </tr>\n",
       "    <tr>\n",
       "      <th>10</th>\n",
       "      <td>5400.0</td>\n",
       "      <td>purpose_car</td>\n",
       "      <td>term_ 36 months</td>\n",
       "    </tr>\n",
       "    <tr>\n",
       "      <th>11</th>\n",
       "      <td>11200.0</td>\n",
       "      <td>purpose_car</td>\n",
       "      <td>term_ 36 months</td>\n",
       "    </tr>\n",
       "    <tr>\n",
       "      <th>12</th>\n",
       "      <td>5000.0</td>\n",
       "      <td>purpose_car</td>\n",
       "      <td>term_ 36 months</td>\n",
       "    </tr>\n",
       "  </tbody>\n",
       "</table>\n",
       "</div>"
      ],
      "text/plain": [
       "    loan_amnt Loan_purpose         variable\n",
       "1      3000.0  purpose_car  term_ 36 months\n",
       "2     12000.0  purpose_car  term_ 36 months\n",
       "4      3500.0  purpose_car  term_ 36 months\n",
       "5      8000.0  purpose_car  term_ 36 months\n",
       "6      6000.0  purpose_car  term_ 36 months\n",
       "7      5500.0  purpose_car  term_ 36 months\n",
       "8     24000.0  purpose_car  term_ 36 months\n",
       "10     5400.0  purpose_car  term_ 36 months\n",
       "11    11200.0  purpose_car  term_ 36 months\n",
       "12     5000.0  purpose_car  term_ 36 months"
      ]
     },
     "execution_count": 46,
     "metadata": {},
     "output_type": "execute_result"
    }
   ],
   "source": [
    "Term = [y for y in Loan_term_table if y.startswith('term_')]\n",
    "Melted_table_v3 = pd.melt(Loan_term_table, id_vars=['loan_amnt','Loan_purpose'], \n",
    "                          value_vars=Term , value_name='Term')\n",
    "#Melted_table_v3\n",
    "\n",
    "Loan_term_table_v2 = Melted_table_v3[Melted_table_v3['Term'] == 1].iloc[:, [0, 1, 2] ]\n",
    "Loan_term_table_v2.head(10)"
   ]
  },
  {
   "cell_type": "code",
   "execution_count": 53,
   "metadata": {},
   "outputs": [
    {
     "data": {
      "image/png": "[encoded data removed]",
      "text/plain": [
       "<Figure size 432x288 with 1 Axes>"
      ]
     },
     "metadata": {
      "needs_background": "light"
     },
     "output_type": "display_data"
    }
   ],
   "source": [
    "sns.stripplot(x = 'loan_amnt', y = 'variable', \n",
    "              hue = 'Loan_purpose', data = Loan_term_table_v2, jitter = 0.05, dodge=True).legend(loc='center left', \n",
    "                                                                                     bbox_to_anchor=(1.25, 0.5), ncol=1)\n",
    "plt.show()"
   ]
  },
  {
   "cell_type": "code",
   "execution_count": null,
   "metadata": {},
   "outputs": [],
   "source": []
  }
 ],
 "metadata": {
  "kernelspec": {
   "display_name": "Python 3",
   "language": "python",
   "name": "python3"
  },
  "language_info": {
   "codemirror_mode": {
    "name": "ipython",
    "version": 3
   },
   "file_extension": ".py",
   "mimetype": "text/x-python",
   "name": "python",
   "nbconvert_exporter": "python",
   "pygments_lexer": "ipython3",
   "version": "3.7.3"
  }
 },
 "nbformat": 4,
 "nbformat_minor": 2
}
